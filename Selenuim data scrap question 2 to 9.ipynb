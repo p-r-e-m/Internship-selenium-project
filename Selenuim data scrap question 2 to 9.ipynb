{
 "cells": [
  {
   "cell_type": "markdown",
   "id": "578aab25",
   "metadata": {},
   "source": [
    "\n",
    "# Q2. Write a python program to scrape data for “Data Scientist” Job position in “Bangalore” location. You have to scrape the job-title, job-location, company_name, full job-description. You have to scrape first 10 jobs data."
   ]
  },
  {
   "cell_type": "code",
   "execution_count": 6,
   "id": "60adcc03",
   "metadata": {},
   "outputs": [
    {
     "name": "stdout",
     "output_type": "stream",
     "text": [
      "Requirement already satisfied: selenium in c:\\users\\hp\\anaconda3\\lib\\site-packages (4.1.3)\n",
      "Requirement already satisfied: urllib3[secure,socks]~=1.26 in c:\\users\\hp\\anaconda3\\lib\\site-packages (from selenium) (1.26.4)\n",
      "Requirement already satisfied: trio~=0.17 in c:\\users\\hp\\anaconda3\\lib\\site-packages (from selenium) (0.20.0)\n",
      "Requirement already satisfied: trio-websocket~=0.9 in c:\\users\\hp\\anaconda3\\lib\\site-packages (from selenium) (0.9.2)\n",
      "Requirement already satisfied: async-generator>=1.9 in c:\\users\\hp\\anaconda3\\lib\\site-packages (from trio~=0.17->selenium) (1.10)\n",
      "Requirement already satisfied: attrs>=19.2.0 in c:\\users\\hp\\anaconda3\\lib\\site-packages (from trio~=0.17->selenium) (20.3.0)\n",
      "Requirement already satisfied: idna in c:\\users\\hp\\anaconda3\\lib\\site-packages (from trio~=0.17->selenium) (2.10)\n",
      "Requirement already satisfied: cffi>=1.14 in c:\\users\\hp\\anaconda3\\lib\\site-packages (from trio~=0.17->selenium) (1.14.5)\n",
      "Requirement already satisfied: sniffio in c:\\users\\hp\\anaconda3\\lib\\site-packages (from trio~=0.17->selenium) (1.2.0)\n",
      "Requirement already satisfied: outcome in c:\\users\\hp\\anaconda3\\lib\\site-packages (from trio~=0.17->selenium) (1.1.0)\n",
      "Requirement already satisfied: sortedcontainers in c:\\users\\hp\\anaconda3\\lib\\site-packages (from trio~=0.17->selenium) (2.3.0)\n",
      "Requirement already satisfied: pycparser in c:\\users\\hp\\anaconda3\\lib\\site-packages (from cffi>=1.14->trio~=0.17->selenium) (2.20)\n",
      "Requirement already satisfied: wsproto>=0.14 in c:\\users\\hp\\anaconda3\\lib\\site-packages (from trio-websocket~=0.9->selenium) (1.1.0)\n",
      "Requirement already satisfied: PySocks!=1.5.7,<2.0,>=1.5.6 in c:\\users\\hp\\anaconda3\\lib\\site-packages (from urllib3[secure,socks]~=1.26->selenium) (1.7.1)\n",
      "Requirement already satisfied: pyOpenSSL>=0.14 in c:\\users\\hp\\anaconda3\\lib\\site-packages (from urllib3[secure,socks]~=1.26->selenium) (20.0.1)\n",
      "Requirement already satisfied: certifi in c:\\users\\hp\\anaconda3\\lib\\site-packages (from urllib3[secure,socks]~=1.26->selenium) (2020.12.5)\n",
      "Requirement already satisfied: cryptography>=1.3.4 in c:\\users\\hp\\anaconda3\\lib\\site-packages (from urllib3[secure,socks]~=1.26->selenium) (3.4.7)\n",
      "Requirement already satisfied: six>=1.5.2 in c:\\users\\hp\\anaconda3\\lib\\site-packages (from pyOpenSSL>=0.14->urllib3[secure,socks]~=1.26->selenium) (1.15.0)\n",
      "Requirement already satisfied: h11<1,>=0.9.0 in c:\\users\\hp\\anaconda3\\lib\\site-packages (from wsproto>=0.14->trio-websocket~=0.9->selenium) (0.13.0)\n"
     ]
    }
   ],
   "source": [
    "!pip install selenium"
   ]
  },
  {
   "cell_type": "code",
   "execution_count": 5,
   "id": "4bf27434",
   "metadata": {},
   "outputs": [],
   "source": [
    "import warnings\n",
    "warnings.filterwarnings(\"ignore\", category=DeprecationWarning) \n",
    "import selenium\n",
    "import pandas as pd\n",
    "from selenium import webdriver\n",
    "import time\n",
    "# Opening Browsers in Incognito using Options\n",
    "from selenium.webdriver.chrome.options import Options\n",
    "chrome_options = Options()\n",
    "chrome_options.add_argument('--incognito')\n",
    "from selenium.common.exceptions import StaleElementReferenceException, NoSuchElementException,ElementNotInteractableException,InvalidArgumentException,InvalidCookieDomainException"
   ]
  },
  {
   "cell_type": "code",
   "execution_count": 3,
   "id": "485d5e0a",
   "metadata": {},
   "outputs": [],
   "source": [
    "driver = webdriver.Chrome(r\"C:\\Users\\hp\\OneDrive\\Desktop\\chromedriver.exe\")"
   ]
  },
  {
   "cell_type": "code",
   "execution_count": 4,
   "id": "fada7070",
   "metadata": {},
   "outputs": [],
   "source": [
    "url=\"https://www.naukri.com/\""
   ]
  },
  {
   "cell_type": "code",
   "execution_count": 5,
   "id": "ccdc458d",
   "metadata": {},
   "outputs": [],
   "source": [
    "driver.get(url)"
   ]
  },
  {
   "cell_type": "code",
   "execution_count": 6,
   "id": "cc9b101d",
   "metadata": {},
   "outputs": [],
   "source": [
    "#interacting with the webpage\n",
    "driver.find_element_by_xpath('//*[@id=\"root\"]/div[2]/div[3]/div/div/div[1]/div/div/div/input').send_keys(\"Data Scientist\")\n",
    "driver.find_element_by_xpath('//*[@id=\"root\"]/div[2]/div[3]/div/div/div[3]/div/div/div/input').send_keys(\"Bangalore\")\n",
    "driver.find_element_by_xpath('//*[@id=\"root\"]/div[2]/div[3]/div/div/div[6]').click()"
   ]
  },
  {
   "cell_type": "code",
   "execution_count": 7,
   "id": "0acf7391",
   "metadata": {},
   "outputs": [],
   "source": [
    "#getting the list of url of first 10 data scientist jobs\n",
    "\n",
    "URL=[]\n",
    "job_tags=driver.find_elements_by_xpath(\"//a[@class='title fw500 ellipsis']\")[0:10]\n",
    "for i in job_tags:\n",
    "    URL.append(i.get_attribute('href'))"
   ]
  },
  {
   "cell_type": "code",
   "execution_count": 8,
   "id": "60193661",
   "metadata": {},
   "outputs": [],
   "source": [
    "#creating the empty lists\n",
    "job_title=[]\n",
    "job_location=[]\n",
    "company_name=[]\n",
    "job_description=[]"
   ]
  },
  {
   "cell_type": "code",
   "execution_count": 9,
   "id": "8150687c",
   "metadata": {
    "scrolled": true
   },
   "outputs": [],
   "source": [
    "driver.get(URL[0])"
   ]
  },
  {
   "cell_type": "code",
   "execution_count": 10,
   "id": "4a695466",
   "metadata": {},
   "outputs": [],
   "source": [
    "#running a loop to extract all the required texts from each individual job listing\n",
    "\n",
    "\n",
    "for i in URL:\n",
    "    driver.get(i)\n",
    "    try:\n",
    "        job_title.append((driver.find_element_by_xpath('//*[@id=\"root\"]/main/div[2]/div[2]/section[1]/div[1]/div[1]/header/h1')).text)\n",
    "        job_location.append((driver.find_element_by_xpath('//*[@id=\"root\"]/main/div[2]/div[2]/section[1]/div[1]/div[2]/div[3]/span')).text)\n",
    "        company_name.append((driver.find_element_by_xpath('//*[@id=\"root\"]/main/div[2]/div[2]/section[1]/div[1]/div[1]/div/a')).text)\n",
    "        job_description.append((driver.find_element_by_xpath('//*[@id=\"root\"]/main/div[2]/div[2]/section[2]')).text.replace(\"\\n\",\"\"))\n",
    "    except NoSuchElementException:\n",
    "        job_title.append(\"Nan\")\n",
    "        job_location.append(\"Nan\")\n",
    "        company_name.append(\"Nan\")\n",
    "        job_description.append(\"Nan\")"
   ]
  },
  {
   "cell_type": "code",
   "execution_count": 11,
   "id": "95267f40",
   "metadata": {},
   "outputs": [],
   "source": [
    "#creating a dataframe\n",
    "\n",
    "Data_scientist=pd.DataFrame({})\n",
    "Data_scientist['job_title']=job_title\n",
    "Data_scientist['job_location']=job_location\n",
    "Data_scientist['company_name']=company_name\n",
    "Data_scientist['job_description']=job_description"
   ]
  },
  {
   "cell_type": "code",
   "execution_count": 12,
   "id": "8c90a704",
   "metadata": {},
   "outputs": [
    {
     "data": {
      "text/html": [
       "<div>\n",
       "<style scoped>\n",
       "    .dataframe tbody tr th:only-of-type {\n",
       "        vertical-align: middle;\n",
       "    }\n",
       "\n",
       "    .dataframe tbody tr th {\n",
       "        vertical-align: top;\n",
       "    }\n",
       "\n",
       "    .dataframe thead th {\n",
       "        text-align: right;\n",
       "    }\n",
       "</style>\n",
       "<table border=\"1\" class=\"dataframe\">\n",
       "  <thead>\n",
       "    <tr style=\"text-align: right;\">\n",
       "      <th></th>\n",
       "      <th>job_title</th>\n",
       "      <th>job_location</th>\n",
       "      <th>company_name</th>\n",
       "      <th>job_description</th>\n",
       "    </tr>\n",
       "  </thead>\n",
       "  <tbody>\n",
       "    <tr>\n",
       "      <th>0</th>\n",
       "      <td>Senior Data Scientist Grade12</td>\n",
       "      <td>Bangalore/Bengaluru</td>\n",
       "      <td>Flipkart</td>\n",
       "      <td>Job descriptionAbout the teamThe Data Sciences...</td>\n",
       "    </tr>\n",
       "    <tr>\n",
       "      <th>1</th>\n",
       "      <td>Senior Data Scientist Grade12</td>\n",
       "      <td>Bangalore/Bengaluru</td>\n",
       "      <td>Flipkart</td>\n",
       "      <td>Job descriptionThe Data Sciences team at Flipk...</td>\n",
       "    </tr>\n",
       "    <tr>\n",
       "      <th>2</th>\n",
       "      <td>Senior Data Scientist</td>\n",
       "      <td>Bangalore/Bengaluru</td>\n",
       "      <td>Fractal Analytics</td>\n",
       "      <td>Job descriptionJob ResponsibilitiesAbility to ...</td>\n",
       "    </tr>\n",
       "    <tr>\n",
       "      <th>3</th>\n",
       "      <td>Nan</td>\n",
       "      <td>Nan</td>\n",
       "      <td>Nan</td>\n",
       "      <td>Nan</td>\n",
       "    </tr>\n",
       "    <tr>\n",
       "      <th>4</th>\n",
       "      <td>Data Scientist</td>\n",
       "      <td>Bangalore/Bengaluru</td>\n",
       "      <td>VISA</td>\n",
       "      <td>Job description  Responsibilities:Be a standou...</td>\n",
       "    </tr>\n",
       "    <tr>\n",
       "      <th>5</th>\n",
       "      <td>Data Scientist, Machine Learning (AIML)</td>\n",
       "      <td>Bangalore/Bengaluru</td>\n",
       "      <td>Fractal Analytics</td>\n",
       "      <td>Job descriptionJob ResponsibilitiesAbility to ...</td>\n",
       "    </tr>\n",
       "    <tr>\n",
       "      <th>6</th>\n",
       "      <td>Nan</td>\n",
       "      <td>Nan</td>\n",
       "      <td>Nan</td>\n",
       "      <td>Nan</td>\n",
       "    </tr>\n",
       "    <tr>\n",
       "      <th>7</th>\n",
       "      <td>Lead - Data Scientist</td>\n",
       "      <td>Bangalore/Bengaluru</td>\n",
       "      <td>Applied Materials</td>\n",
       "      <td>Job descriptionApplied Materials’ AGS Business...</td>\n",
       "    </tr>\n",
       "    <tr>\n",
       "      <th>8</th>\n",
       "      <td>DATA SCIENTIST</td>\n",
       "      <td>Bangalore/Bengaluru</td>\n",
       "      <td>Kyndryl</td>\n",
       "      <td>Job descriptionAs a Data Scientist you be part...</td>\n",
       "    </tr>\n",
       "    <tr>\n",
       "      <th>9</th>\n",
       "      <td>Data Scientist</td>\n",
       "      <td>Bangalore/Bengaluru</td>\n",
       "      <td>Aidetic Software Pvt Ltd</td>\n",
       "      <td>Job descriptionJob descriptionDesign machine l...</td>\n",
       "    </tr>\n",
       "  </tbody>\n",
       "</table>\n",
       "</div>"
      ],
      "text/plain": [
       "                                 job_title         job_location  \\\n",
       "0            Senior Data Scientist Grade12  Bangalore/Bengaluru   \n",
       "1            Senior Data Scientist Grade12  Bangalore/Bengaluru   \n",
       "2                    Senior Data Scientist  Bangalore/Bengaluru   \n",
       "3                                      Nan                  Nan   \n",
       "4                           Data Scientist  Bangalore/Bengaluru   \n",
       "5  Data Scientist, Machine Learning (AIML)  Bangalore/Bengaluru   \n",
       "6                                      Nan                  Nan   \n",
       "7                    Lead - Data Scientist  Bangalore/Bengaluru   \n",
       "8                           DATA SCIENTIST  Bangalore/Bengaluru   \n",
       "9                           Data Scientist  Bangalore/Bengaluru   \n",
       "\n",
       "               company_name                                    job_description  \n",
       "0                  Flipkart  Job descriptionAbout the teamThe Data Sciences...  \n",
       "1                  Flipkart  Job descriptionThe Data Sciences team at Flipk...  \n",
       "2         Fractal Analytics  Job descriptionJob ResponsibilitiesAbility to ...  \n",
       "3                       Nan                                                Nan  \n",
       "4                      VISA  Job description  Responsibilities:Be a standou...  \n",
       "5         Fractal Analytics  Job descriptionJob ResponsibilitiesAbility to ...  \n",
       "6                       Nan                                                Nan  \n",
       "7         Applied Materials  Job descriptionApplied Materials’ AGS Business...  \n",
       "8                   Kyndryl  Job descriptionAs a Data Scientist you be part...  \n",
       "9  Aidetic Software Pvt Ltd  Job descriptionJob descriptionDesign machine l...  "
      ]
     },
     "execution_count": 12,
     "metadata": {},
     "output_type": "execute_result"
    }
   ],
   "source": [
    "Data_scientist"
   ]
  },
  {
   "cell_type": "markdown",
   "id": "9278cfe7",
   "metadata": {},
   "source": [
    "# Q3: In this question you have to scrape data using the filters available on the webpage"
   ]
  },
  {
   "cell_type": "code",
   "execution_count": 21,
   "id": "a991aad6",
   "metadata": {},
   "outputs": [],
   "source": [
    "#specifying the url of the webpage to be scraped\n",
    "url=\"https://www.naukri.com/\""
   ]
  },
  {
   "cell_type": "code",
   "execution_count": 22,
   "id": "dc6ec621",
   "metadata": {},
   "outputs": [],
   "source": [
    "driver.get(url)"
   ]
  },
  {
   "cell_type": "code",
   "execution_count": 23,
   "id": "b29c0891",
   "metadata": {},
   "outputs": [],
   "source": [
    "driver.find_element_by_xpath('//*[@id=\"root\"]/div[2]/div[3]/div/div/div[1]/div/div/div/input').send_keys(\"Data Scientist\")\n",
    "driver.find_element_by_xpath('//*[@id=\"root\"]/div[2]/div[3]/div/div/div[6]').click()"
   ]
  },
  {
   "cell_type": "code",
   "execution_count": 24,
   "id": "cc0520bc",
   "metadata": {},
   "outputs": [],
   "source": [
    "#applying location filter on the webpage\n",
    "driver.find_element_by_xpath('//*[@id=\"root\"]/div[3]/div[2]/section[1]/div[2]/div[4]/div[2]/div[3]/label/p/span[1]').click()"
   ]
  },
  {
   "cell_type": "code",
   "execution_count": 25,
   "id": "9f51ee5f",
   "metadata": {},
   "outputs": [],
   "source": [
    "#applying salary filter on the webpage\n",
    "driver.find_element_by_xpath('//*[@id=\"root\"]/div[3]/div[2]/section[1]/div[2]/div[5]/div[2]/div[2]/label/p/span[1]').click()"
   ]
  },
  {
   "cell_type": "code",
   "execution_count": 26,
   "id": "2542e3ae",
   "metadata": {},
   "outputs": [],
   "source": [
    "#creating the empty lists\n",
    "job_title=[]\n",
    "job_location=[]\n",
    "company_name=[]\n",
    "experience_required=[]\n"
   ]
  },
  {
   "cell_type": "code",
   "execution_count": 27,
   "id": "6f50de34",
   "metadata": {},
   "outputs": [
    {
     "data": {
      "text/plain": [
       "[<selenium.webdriver.remote.webelement.WebElement (session=\"b27344027a46ade735387bddc6aa1b6b\", element=\"e607293c-3411-4d27-9158-b44e82a30fd0\")>,\n",
       " <selenium.webdriver.remote.webelement.WebElement (session=\"b27344027a46ade735387bddc6aa1b6b\", element=\"35a2a63f-8186-42a9-90b5-acc65c70f721\")>,\n",
       " <selenium.webdriver.remote.webelement.WebElement (session=\"b27344027a46ade735387bddc6aa1b6b\", element=\"776c7493-7f7f-40d9-a227-7cee38a06eb9\")>]"
      ]
     },
     "execution_count": 27,
     "metadata": {},
     "output_type": "execute_result"
    }
   ],
   "source": [
    "titles=driver.find_elements_by_xpath(\"//a[@class='title fw500 ellipsis']\")[0:10]\n",
    "titles[0:3]\n",
    "\n",
    "companies=driver.find_elements_by_xpath(\"//a[@class='subTitle ellipsis fleft']\")[0:10]\n",
    "companies[0:3]\n",
    "\n",
    "experience_tags=driver.find_elements_by_xpath(\"//li[@class='fleft grey-text br2 placeHolderLi experience']/span[1]\")[0:10]\n",
    "experience_tags[0:3]\n",
    "\n",
    "location_tags=driver.find_elements_by_xpath(\"//li[@class='fleft grey-text br2 placeHolderLi location']/span[1]\")[0:10]\n",
    "location_tags[0:3]"
   ]
  },
  {
   "cell_type": "code",
   "execution_count": 28,
   "id": "303d09d7",
   "metadata": {},
   "outputs": [],
   "source": [
    "for i in titles:\n",
    "    title=i.text\n",
    "    job_title.append(title)\n",
    "\n",
    "for i in companies:\n",
    "    company_names=i.text\n",
    "    company_name.append(company_names)\n",
    "\n",
    "for i in experience_tags:\n",
    "    experience=i.text\n",
    "    experience_required.append(experience)\n",
    "\n",
    "\n",
    "for i in location_tags:\n",
    "    locations=i.text\n",
    "    job_location.append(locations)"
   ]
  },
  {
   "cell_type": "code",
   "execution_count": 29,
   "id": "7f74dd9e",
   "metadata": {},
   "outputs": [],
   "source": [
    "Data_Scientist=pd.DataFrame({})\n",
    "Data_Scientist['job_title']=job_title\n",
    "Data_Scientist['job_location']=job_location\n",
    "Data_Scientist['company_name']=company_name\n",
    "Data_Scientist['experience_required']=experience_required"
   ]
  },
  {
   "cell_type": "code",
   "execution_count": 30,
   "id": "b0916fb6",
   "metadata": {},
   "outputs": [
    {
     "data": {
      "text/html": [
       "<div>\n",
       "<style scoped>\n",
       "    .dataframe tbody tr th:only-of-type {\n",
       "        vertical-align: middle;\n",
       "    }\n",
       "\n",
       "    .dataframe tbody tr th {\n",
       "        vertical-align: top;\n",
       "    }\n",
       "\n",
       "    .dataframe thead th {\n",
       "        text-align: right;\n",
       "    }\n",
       "</style>\n",
       "<table border=\"1\" class=\"dataframe\">\n",
       "  <thead>\n",
       "    <tr style=\"text-align: right;\">\n",
       "      <th></th>\n",
       "      <th>job_title</th>\n",
       "      <th>job_location</th>\n",
       "      <th>company_name</th>\n",
       "      <th>experience_required</th>\n",
       "    </tr>\n",
       "  </thead>\n",
       "  <tbody>\n",
       "    <tr>\n",
       "      <th>0</th>\n",
       "      <td>Data Scientist</td>\n",
       "      <td>Noida, Bangalore/Bengaluru</td>\n",
       "      <td>Ashkom Media India Private Limited</td>\n",
       "      <td>3-6 Yrs</td>\n",
       "    </tr>\n",
       "    <tr>\n",
       "      <th>1</th>\n",
       "      <td>Junior Data Scientist</td>\n",
       "      <td>Noida</td>\n",
       "      <td>EASY DATA ANALYTICS TECHNOLOGY PRIVATE LIMITED</td>\n",
       "      <td>1-2 Yrs</td>\n",
       "    </tr>\n",
       "    <tr>\n",
       "      <th>2</th>\n",
       "      <td>Associate Data Scientist</td>\n",
       "      <td>Gurgaon/Gurugram</td>\n",
       "      <td>Optum</td>\n",
       "      <td>1-5 Yrs</td>\n",
       "    </tr>\n",
       "    <tr>\n",
       "      <th>3</th>\n",
       "      <td>Associate Scientist - Data Engineering</td>\n",
       "      <td>Gurgaon/Gurugram</td>\n",
       "      <td>AXA Technology Services India Pvt. Ltd</td>\n",
       "      <td>2-5 Yrs</td>\n",
       "    </tr>\n",
       "    <tr>\n",
       "      <th>4</th>\n",
       "      <td>Hiring For Data Analyst and Data Scientist For...</td>\n",
       "      <td>Noida, Gurgaon/Gurugram, Delhi / NCR</td>\n",
       "      <td>Shadow Placements</td>\n",
       "      <td>3-7 Yrs</td>\n",
       "    </tr>\n",
       "    <tr>\n",
       "      <th>5</th>\n",
       "      <td>Data Scientist || Software Company || Immediat...</td>\n",
       "      <td>Gurgaon/Gurugram, Bangalore/Bengaluru</td>\n",
       "      <td>Skyleaf Consultants</td>\n",
       "      <td>3-8 Yrs</td>\n",
       "    </tr>\n",
       "    <tr>\n",
       "      <th>6</th>\n",
       "      <td>Data Scientist (freelance)</td>\n",
       "      <td>New Delhi, Delhi</td>\n",
       "      <td>2Coms</td>\n",
       "      <td>2-7 Yrs</td>\n",
       "    </tr>\n",
       "    <tr>\n",
       "      <th>7</th>\n",
       "      <td>Data Scientist/ Machine Learning, 2022 Passout...</td>\n",
       "      <td>Hyderabad/Secunderabad, Pune, Chennai, Delhi /...</td>\n",
       "      <td>Creative Hands HR Consultancy</td>\n",
       "      <td>0-4 Yrs</td>\n",
       "    </tr>\n",
       "    <tr>\n",
       "      <th>8</th>\n",
       "      <td>Data Scientists</td>\n",
       "      <td>Gurgaon/Gurugram</td>\n",
       "      <td>Nibha Infotech Private Limited</td>\n",
       "      <td>5-8 Yrs</td>\n",
       "    </tr>\n",
       "    <tr>\n",
       "      <th>9</th>\n",
       "      <td>Data Scientist</td>\n",
       "      <td>Gurgaon, Bengaluru</td>\n",
       "      <td>BlackBuck</td>\n",
       "      <td>3-7 Yrs</td>\n",
       "    </tr>\n",
       "  </tbody>\n",
       "</table>\n",
       "</div>"
      ],
      "text/plain": [
       "                                           job_title  \\\n",
       "0                                     Data Scientist   \n",
       "1                              Junior Data Scientist   \n",
       "2                           Associate Data Scientist   \n",
       "3             Associate Scientist - Data Engineering   \n",
       "4  Hiring For Data Analyst and Data Scientist For...   \n",
       "5  Data Scientist || Software Company || Immediat...   \n",
       "6                         Data Scientist (freelance)   \n",
       "7  Data Scientist/ Machine Learning, 2022 Passout...   \n",
       "8                                    Data Scientists   \n",
       "9                                     Data Scientist   \n",
       "\n",
       "                                        job_location  \\\n",
       "0                         Noida, Bangalore/Bengaluru   \n",
       "1                                              Noida   \n",
       "2                                   Gurgaon/Gurugram   \n",
       "3                                   Gurgaon/Gurugram   \n",
       "4               Noida, Gurgaon/Gurugram, Delhi / NCR   \n",
       "5              Gurgaon/Gurugram, Bangalore/Bengaluru   \n",
       "6                                   New Delhi, Delhi   \n",
       "7  Hyderabad/Secunderabad, Pune, Chennai, Delhi /...   \n",
       "8                                   Gurgaon/Gurugram   \n",
       "9                                 Gurgaon, Bengaluru   \n",
       "\n",
       "                                     company_name experience_required  \n",
       "0              Ashkom Media India Private Limited             3-6 Yrs  \n",
       "1  EASY DATA ANALYTICS TECHNOLOGY PRIVATE LIMITED             1-2 Yrs  \n",
       "2                                           Optum             1-5 Yrs  \n",
       "3          AXA Technology Services India Pvt. Ltd             2-5 Yrs  \n",
       "4                               Shadow Placements             3-7 Yrs  \n",
       "5                             Skyleaf Consultants             3-8 Yrs  \n",
       "6                                           2Coms             2-7 Yrs  \n",
       "7                   Creative Hands HR Consultancy             0-4 Yrs  \n",
       "8                  Nibha Infotech Private Limited             5-8 Yrs  \n",
       "9                                       BlackBuck             3-7 Yrs  "
      ]
     },
     "execution_count": 30,
     "metadata": {},
     "output_type": "execute_result"
    }
   ],
   "source": [
    "Data_Scientist"
   ]
  },
  {
   "cell_type": "markdown",
   "id": "514e24c6",
   "metadata": {},
   "source": [
    "# Q)4 Scrape data of first 100 sunglasses listings on flipkart.com. You have to scrape four attributes:\n",
    "1. Brand\n",
    "2. Product Description\n",
    "3. Price"
   ]
  },
  {
   "cell_type": "code",
   "execution_count": 36,
   "id": "dd5f9c47",
   "metadata": {},
   "outputs": [],
   "source": [
    "driver = webdriver.Chrome(r\"C:\\Users\\hp\\OneDrive\\Desktop\\chromedriver.exe\")"
   ]
  },
  {
   "cell_type": "code",
   "execution_count": 37,
   "id": "75fdedda",
   "metadata": {},
   "outputs": [],
   "source": [
    "#specifying the url of the webpage to be scraped\n",
    "url=\" https://www.flipkart.com/\""
   ]
  },
  {
   "cell_type": "code",
   "execution_count": 38,
   "id": "76b37e4e",
   "metadata": {},
   "outputs": [],
   "source": [
    "driver.get(url)"
   ]
  },
  {
   "cell_type": "code",
   "execution_count": 42,
   "id": "2329b1d8",
   "metadata": {},
   "outputs": [],
   "source": [
    "#interacting with the webpage\n",
    "driver.find_element_by_xpath('//*[@id=\"container\"]/div/div[1]/div[1]/div[2]/div[2]/form/div/div/input').send_keys(\"sunglasses\")\n",
    "driver.find_element_by_xpath('//*[@id=\"container\"]/div/div[1]/div[1]/div[2]/div[2]/form/div/button').click()"
   ]
  },
  {
   "cell_type": "code",
   "execution_count": 43,
   "id": "ec7d73b5",
   "metadata": {},
   "outputs": [],
   "source": [
    "#creating the empty lists\n",
    "Brand=[]\n",
    "Product_Description=[]\n",
    "Price=[]\n",
    "Discount=[]"
   ]
  },
  {
   "cell_type": "code",
   "execution_count": 44,
   "id": "26da5733",
   "metadata": {},
   "outputs": [],
   "source": [
    "URL=[]\n",
    "for i in range(0,3):\n",
    "    sunglasses=driver.find_elements_by_xpath(\"//a[@class='_2UzuFa']\")[0:100]\n",
    "    for i in sunglasses:\n",
    "        URL.append(i.get_attribute('href'))\n",
    "    driver.find_element_by_xpath('//*[@id=\"container\"]/div/div[3]/div[1]/div[2]/div[12]/div/div/nav/a[11]').click()\n",
    "    time.sleep(3)"
   ]
  },
  {
   "cell_type": "code",
   "execution_count": 45,
   "id": "11149622",
   "metadata": {},
   "outputs": [],
   "source": [
    "list_of_url=URL[0:100]"
   ]
  },
  {
   "cell_type": "code",
   "execution_count": 46,
   "id": "9973a5ab",
   "metadata": {},
   "outputs": [
    {
     "data": {
      "text/plain": [
       "100"
      ]
     },
     "execution_count": 46,
     "metadata": {},
     "output_type": "execute_result"
    }
   ],
   "source": [
    "len(list_of_url)"
   ]
  },
  {
   "cell_type": "code",
   "execution_count": 47,
   "id": "339df164",
   "metadata": {},
   "outputs": [],
   "source": [
    "#going to the url of first sunglasses through our driver\n",
    "driver.get(list_of_url[0])"
   ]
  },
  {
   "cell_type": "code",
   "execution_count": 51,
   "id": "7ddf0e51",
   "metadata": {},
   "outputs": [
    {
     "name": "stderr",
     "output_type": "stream",
     "text": [
      "100%|████████████████████████████████████████████████████████████████████████████████| 100/100 [05:57<00:00,  3.57s/it]\n"
     ]
    }
   ],
   "source": [
    "#running a loop to extract all the required information from the list_of_url\n",
    "\n",
    "from tqdm import tqdm\n",
    "for i in tqdm(list_of_url):\n",
    "    driver.get(i)\n",
    "    try:\n",
    "        brand=driver.find_element_by_xpath(\"//span[@class='G6XhRU']\").text\n",
    "        Brand.append(brand)\n",
    "        description=driver.find_element_by_xpath(\"//span[@class='B_NuCI']\").text\n",
    "        Product_Description.append(description)\n",
    "        price=driver.find_element_by_xpath(\"//div[@class='_30jeq3 _16Jk6d']\").text\n",
    "        Price.append(price)\n",
    "    except NoSuchElementException:\n",
    "        Brand.append(\"Null\")\n",
    "        Product_Description.append(\"Null\")\n",
    "        Price.append(\"Null\")"
   ]
  },
  {
   "cell_type": "code",
   "execution_count": 55,
   "id": "8618f824",
   "metadata": {},
   "outputs": [],
   "source": [
    "#creating a dataframe\n",
    "\n",
    "Sunglasses=pd.DataFrame({})\n",
    "Sunglasses['Brand']=Brand\n",
    "Sunglasses['Product_Description']=Product_Description\n",
    "Sunglasses['Price']=Price"
   ]
  },
  {
   "cell_type": "code",
   "execution_count": 56,
   "id": "dec56cb2",
   "metadata": {},
   "outputs": [
    {
     "data": {
      "text/html": [
       "<div>\n",
       "<style scoped>\n",
       "    .dataframe tbody tr th:only-of-type {\n",
       "        vertical-align: middle;\n",
       "    }\n",
       "\n",
       "    .dataframe tbody tr th {\n",
       "        vertical-align: top;\n",
       "    }\n",
       "\n",
       "    .dataframe thead th {\n",
       "        text-align: right;\n",
       "    }\n",
       "</style>\n",
       "<table border=\"1\" class=\"dataframe\">\n",
       "  <thead>\n",
       "    <tr style=\"text-align: right;\">\n",
       "      <th></th>\n",
       "      <th>Brand</th>\n",
       "      <th>Product_Description</th>\n",
       "      <th>Price</th>\n",
       "    </tr>\n",
       "  </thead>\n",
       "  <tbody>\n",
       "    <tr>\n",
       "      <th>0</th>\n",
       "      <td>Fastrack</td>\n",
       "      <td>UV Protection Wayfarer Sunglasses (Free Size) ...</td>\n",
       "      <td>₹647</td>\n",
       "    </tr>\n",
       "    <tr>\n",
       "      <th>1</th>\n",
       "      <td>SUNBEE</td>\n",
       "      <td>UV Protection, Polarized Wayfarer Sunglasses (...</td>\n",
       "      <td>₹283</td>\n",
       "    </tr>\n",
       "    <tr>\n",
       "      <th>2</th>\n",
       "      <td>Fastrack</td>\n",
       "      <td>UV Protection Rectangular Sunglasses (Free Siz...</td>\n",
       "      <td>₹639</td>\n",
       "    </tr>\n",
       "    <tr>\n",
       "      <th>3</th>\n",
       "      <td>PIRASO</td>\n",
       "      <td>UV Protection Aviator Sunglasses (54)  (For Me...</td>\n",
       "      <td>₹249</td>\n",
       "    </tr>\n",
       "    <tr>\n",
       "      <th>4</th>\n",
       "      <td>Elligator</td>\n",
       "      <td>UV Protection Round Sunglasses (54)  (For Men ...</td>\n",
       "      <td>₹295</td>\n",
       "    </tr>\n",
       "    <tr>\n",
       "      <th>...</th>\n",
       "      <td>...</td>\n",
       "      <td>...</td>\n",
       "      <td>...</td>\n",
       "    </tr>\n",
       "    <tr>\n",
       "      <th>195</th>\n",
       "      <td>VINCENT CHASE</td>\n",
       "      <td>UV Protection Wayfarer Sunglasses (55)  (For M...</td>\n",
       "      <td>₹749</td>\n",
       "    </tr>\n",
       "    <tr>\n",
       "      <th>196</th>\n",
       "      <td>United Colors of Benetton</td>\n",
       "      <td>Mirrored, UV Protection Wayfarer Sunglasses (5...</td>\n",
       "      <td>₹1,249</td>\n",
       "    </tr>\n",
       "    <tr>\n",
       "      <th>197</th>\n",
       "      <td>Rich Club</td>\n",
       "      <td>UV Protection Round Sunglasses (48)  (For Men ...</td>\n",
       "      <td>₹199</td>\n",
       "    </tr>\n",
       "    <tr>\n",
       "      <th>198</th>\n",
       "      <td>Fastrack</td>\n",
       "      <td>Polarized Aviator Sunglasses (Free Size)  (For...</td>\n",
       "      <td>₹2,087</td>\n",
       "    </tr>\n",
       "    <tr>\n",
       "      <th>199</th>\n",
       "      <td>David Martin</td>\n",
       "      <td>UV Protection Aviator Sunglasses (56)  (For Me...</td>\n",
       "      <td>₹99</td>\n",
       "    </tr>\n",
       "  </tbody>\n",
       "</table>\n",
       "<p>200 rows × 3 columns</p>\n",
       "</div>"
      ],
      "text/plain": [
       "                          Brand  \\\n",
       "0                     Fastrack    \n",
       "1                       SUNBEE    \n",
       "2                     Fastrack    \n",
       "3                       PIRASO    \n",
       "4                    Elligator    \n",
       "..                          ...   \n",
       "195              VINCENT CHASE    \n",
       "196  United Colors of Benetton    \n",
       "197                  Rich Club    \n",
       "198                   Fastrack    \n",
       "199               David Martin    \n",
       "\n",
       "                                   Product_Description   Price  \n",
       "0    UV Protection Wayfarer Sunglasses (Free Size) ...    ₹647  \n",
       "1    UV Protection, Polarized Wayfarer Sunglasses (...    ₹283  \n",
       "2    UV Protection Rectangular Sunglasses (Free Siz...    ₹639  \n",
       "3    UV Protection Aviator Sunglasses (54)  (For Me...    ₹249  \n",
       "4    UV Protection Round Sunglasses (54)  (For Men ...    ₹295  \n",
       "..                                                 ...     ...  \n",
       "195  UV Protection Wayfarer Sunglasses (55)  (For M...    ₹749  \n",
       "196  Mirrored, UV Protection Wayfarer Sunglasses (5...  ₹1,249  \n",
       "197  UV Protection Round Sunglasses (48)  (For Men ...    ₹199  \n",
       "198  Polarized Aviator Sunglasses (Free Size)  (For...  ₹2,087  \n",
       "199  UV Protection Aviator Sunglasses (56)  (For Me...     ₹99  \n",
       "\n",
       "[200 rows x 3 columns]"
      ]
     },
     "execution_count": 56,
     "metadata": {},
     "output_type": "execute_result"
    }
   ],
   "source": [
    "Sunglasses"
   ]
  },
  {
   "cell_type": "markdown",
   "id": "0d92652c",
   "metadata": {},
   "source": [
    "# Q5: Scrape 100 reviews data from flipkart.com for iphone11 phone. You have to go the link:"
   ]
  },
  {
   "cell_type": "code",
   "execution_count": 52,
   "id": "9d485b70",
   "metadata": {},
   "outputs": [],
   "source": [
    "driver = webdriver.Chrome(r\"C:\\Users\\hp\\OneDrive\\Desktop\\chromedriver.exe\")"
   ]
  },
  {
   "cell_type": "code",
   "execution_count": 58,
   "id": "53c67c22",
   "metadata": {},
   "outputs": [],
   "source": [
    "url=\"https://www.flipkart.com/apple-iphone-11-black-64-gb-includes-%20earpods-power%02adapter/p/itm0f37c2240b217?pid=MOBFKCTSVZAXUHGR&lid=LSTMOBFKC%20TSVZAXUHGREPBFGI&marketplace\""
   ]
  },
  {
   "cell_type": "code",
   "execution_count": 59,
   "id": "ecf3fc1e",
   "metadata": {},
   "outputs": [],
   "source": [
    "driver.get(url)"
   ]
  },
  {
   "cell_type": "code",
   "execution_count": 60,
   "id": "67f0527e",
   "metadata": {},
   "outputs": [],
   "source": [
    "#clicking on all reviews\n",
    "driver.find_element_by_xpath('//*[@id=\"container\"]/div/div[3]/div[1]/div[2]/div[9]/div/div/div[5]/div/a/div/span').click()"
   ]
  },
  {
   "cell_type": "code",
   "execution_count": 61,
   "id": "809b1c4c",
   "metadata": {},
   "outputs": [],
   "source": [
    "#creating empty lists\n",
    "Rating=[]\n",
    "Review_summary=[]\n",
    "Full_review=[]"
   ]
  },
  {
   "cell_type": "code",
   "execution_count": 62,
   "id": "1fa98977",
   "metadata": {},
   "outputs": [
    {
     "name": "stderr",
     "output_type": "stream",
     "text": [
      "C:\\Users\\hp\\anaconda3\\lib\\site-packages\\selenium\\webdriver\\remote\\webelement.py:341: UserWarning: find_element_by_tag_name is deprecated. Please use find_element(by=By.TAG_NAME, value=name) instead\n",
      "  warnings.warn(\"find_element_by_tag_name is deprecated. Please use find_element(by=By.TAG_NAME, value=name) instead\")\n"
     ]
    }
   ],
   "source": [
    "URL=[]\n",
    "for j in range(0,12):\n",
    "    review_tags=driver.find_elements_by_xpath(\"//nav[@class='yFHi8N']\")\n",
    "    for i in review_tags:\n",
    "        review_tags1=i.find_element_by_tag_name(\"a\")\n",
    "        URL.append(review_tags1.get_attribute('href'))\n",
    "        try:\n",
    "            driver.find_element_by_xpath('//*[@id=\"container\"]/div/div[3]/div/div/div[2]/div[13]/div/div/nav/a[11]/span').click()\n",
    "        except NoSuchElementException:\n",
    "            driver.find_element_by_xpath('//*[@id=\"container\"]/div/div[3]/div/div/div[2]/div[13]/div/div/nav/a[12]/span').click()\n",
    "        time.sleep(3)"
   ]
  },
  {
   "cell_type": "code",
   "execution_count": 63,
   "id": "ca20da6e",
   "metadata": {},
   "outputs": [],
   "source": [
    "List_of_url=URL[2:]"
   ]
  },
  {
   "cell_type": "code",
   "execution_count": 65,
   "id": "2004488e",
   "metadata": {},
   "outputs": [],
   "source": [
    "#going to the first url through our driver\n",
    "driver.get(List_of_url[0])"
   ]
  },
  {
   "cell_type": "code",
   "execution_count": 66,
   "id": "a2ed63ac",
   "metadata": {},
   "outputs": [],
   "source": [
    "#extracting the required texts through loop\n",
    "for i in List_of_url:\n",
    "    for i in driver.find_elements_by_xpath(\"//p[@class='_2-N8zT']\"):\n",
    "        Review_summary.append(i.text)\n",
    "        \n",
    "    for j in driver.find_elements_by_xpath(\"//div[@class='_3LWZlK _1BLPMq']\"):\n",
    "        Rating.append(j.text)\n",
    "    \n",
    "    time.sleep(3)\n",
    "    #for k in driver.find_elements_by_xpath(\"//span[@class='a-size-medium a-color-base a-text-beside-button a-text-bold']\"):\n",
    "        #Full_review.append(k.text)"
   ]
  },
  {
   "cell_type": "code",
   "execution_count": 72,
   "id": "009eae89",
   "metadata": {},
   "outputs": [],
   "source": [
    "driver.get(List_of_url[0])"
   ]
  },
  {
   "cell_type": "code",
   "execution_count": 79,
   "id": "de5c8e74",
   "metadata": {},
   "outputs": [],
   "source": [
    "#extracting full reviews from list of url through loops\n",
    "for r in List_of_url:\n",
    "    read_more_btns=driver.find_elements_by_xpath(\"//span[@class='_1BWGvX']\")\n",
    "    for rm in range(0,len(read_more_btns)):\n",
    "        if read_more_btns[rm].is_displayed():\n",
    "            read_more_btns[rm].click()\n",
    "            for rm in driver.find_elements_by_xpath(\"//div[@class='t-ZTKy']/div/div\"):\n",
    "                Full_review.append(rm.text.replace(\"\\n\",\"\"))\n",
    "            for r in driver.find_elements_by_xpath('//*[@id=\"container\"]/div/div[3]/div/div[1]/div[2]/div[9]/div/div/div/div[2]'):\n",
    "                Full_review.append(r.text.replace(\"\\n\",\"\"))\n",
    "    time.sleep(3)"
   ]
  },
  {
   "cell_type": "code",
   "execution_count": 81,
   "id": "ea51e505",
   "metadata": {},
   "outputs": [
    {
     "name": "stdout",
     "output_type": "stream",
     "text": [
      "100 100 120\n"
     ]
    }
   ],
   "source": [
    "print(len(Review_summary),len(Rating),len(Full_review))"
   ]
  },
  {
   "cell_type": "code",
   "execution_count": 82,
   "id": "b04c7aef",
   "metadata": {},
   "outputs": [],
   "source": [
    "Reviews=pd.DataFrame({})\n",
    "Reviews['Review_summary']=Review_summary\n",
    "Reviews['Rating']=Rating\n",
    "Reviews['Full_review']=Full_review[:100]"
   ]
  },
  {
   "cell_type": "code",
   "execution_count": 83,
   "id": "32b229d0",
   "metadata": {},
   "outputs": [
    {
     "data": {
      "text/html": [
       "<div>\n",
       "<style scoped>\n",
       "    .dataframe tbody tr th:only-of-type {\n",
       "        vertical-align: middle;\n",
       "    }\n",
       "\n",
       "    .dataframe tbody tr th {\n",
       "        vertical-align: top;\n",
       "    }\n",
       "\n",
       "    .dataframe thead th {\n",
       "        text-align: right;\n",
       "    }\n",
       "</style>\n",
       "<table border=\"1\" class=\"dataframe\">\n",
       "  <thead>\n",
       "    <tr style=\"text-align: right;\">\n",
       "      <th></th>\n",
       "      <th>Review_summary</th>\n",
       "      <th>Rating</th>\n",
       "      <th>Full_review</th>\n",
       "    </tr>\n",
       "  </thead>\n",
       "  <tbody>\n",
       "    <tr>\n",
       "      <th>0</th>\n",
       "      <td>Highly recommended</td>\n",
       "      <td>5</td>\n",
       "      <td>iphone 11 is a very good phone to buy only if ...</td>\n",
       "    </tr>\n",
       "    <tr>\n",
       "      <th>1</th>\n",
       "      <td>Perfect product!</td>\n",
       "      <td>5</td>\n",
       "      <td>It’s a must buy who is looking for an upgrade ...</td>\n",
       "    </tr>\n",
       "    <tr>\n",
       "      <th>2</th>\n",
       "      <td>Perfect product!</td>\n",
       "      <td>5</td>\n",
       "      <td>Value for money❤️❤️Its awesome mobile phone in...</td>\n",
       "    </tr>\n",
       "    <tr>\n",
       "      <th>3</th>\n",
       "      <td>Worth every penny</td>\n",
       "      <td>5</td>\n",
       "      <td>Smooth like butter, camera like fantabulous, s...</td>\n",
       "    </tr>\n",
       "    <tr>\n",
       "      <th>4</th>\n",
       "      <td>Highly recommended</td>\n",
       "      <td>5</td>\n",
       "      <td>It's my first time to use iOS phone and I am l...</td>\n",
       "    </tr>\n",
       "    <tr>\n",
       "      <th>...</th>\n",
       "      <td>...</td>\n",
       "      <td>...</td>\n",
       "      <td>...</td>\n",
       "    </tr>\n",
       "    <tr>\n",
       "      <th>95</th>\n",
       "      <td>Perfect product!</td>\n",
       "      <td>5</td>\n",
       "      <td>Iphone is just awesome.. battery backup is ver...</td>\n",
       "    </tr>\n",
       "    <tr>\n",
       "      <th>96</th>\n",
       "      <td>Worth every penny</td>\n",
       "      <td>5</td>\n",
       "      <td>Best budget Iphone till date ❤️ go for it guys...</td>\n",
       "    </tr>\n",
       "    <tr>\n",
       "      <th>97</th>\n",
       "      <td>Simply awesome</td>\n",
       "      <td>5</td>\n",
       "      <td>Excellent camera, good performance, no lag. Th...</td>\n",
       "    </tr>\n",
       "    <tr>\n",
       "      <th>98</th>\n",
       "      <td>Terrific</td>\n",
       "      <td>5</td>\n",
       "      <td>Really worth of money. i just love it. It is t...</td>\n",
       "    </tr>\n",
       "    <tr>\n",
       "      <th>99</th>\n",
       "      <td>Classy product</td>\n",
       "      <td>5</td>\n",
       "      <td>Totally in love with this ❤ the camera quality...</td>\n",
       "    </tr>\n",
       "  </tbody>\n",
       "</table>\n",
       "<p>100 rows × 3 columns</p>\n",
       "</div>"
      ],
      "text/plain": [
       "        Review_summary Rating  \\\n",
       "0   Highly recommended      5   \n",
       "1     Perfect product!      5   \n",
       "2     Perfect product!      5   \n",
       "3    Worth every penny      5   \n",
       "4   Highly recommended      5   \n",
       "..                 ...    ...   \n",
       "95    Perfect product!      5   \n",
       "96   Worth every penny      5   \n",
       "97      Simply awesome      5   \n",
       "98            Terrific      5   \n",
       "99      Classy product      5   \n",
       "\n",
       "                                          Full_review  \n",
       "0   iphone 11 is a very good phone to buy only if ...  \n",
       "1   It’s a must buy who is looking for an upgrade ...  \n",
       "2   Value for money❤️❤️Its awesome mobile phone in...  \n",
       "3   Smooth like butter, camera like fantabulous, s...  \n",
       "4   It's my first time to use iOS phone and I am l...  \n",
       "..                                                ...  \n",
       "95  Iphone is just awesome.. battery backup is ver...  \n",
       "96  Best budget Iphone till date ❤️ go for it guys...  \n",
       "97  Excellent camera, good performance, no lag. Th...  \n",
       "98  Really worth of money. i just love it. It is t...  \n",
       "99  Totally in love with this ❤ the camera quality...  \n",
       "\n",
       "[100 rows x 3 columns]"
      ]
     },
     "execution_count": 83,
     "metadata": {},
     "output_type": "execute_result"
    }
   ],
   "source": [
    "Reviews"
   ]
  },
  {
   "cell_type": "markdown",
   "id": "775c2b6f",
   "metadata": {},
   "source": [
    "# Q6: Scrape data for first 100 sneakers you find when you visit flipkart.com andsearch for “sneakers” in the\n",
    "search field.\n",
    "You have to scrape 4 attributes of each sneaker:\n",
    "1. Brand\n",
    "2. Product Description\n",
    "3. Price"
   ]
  },
  {
   "cell_type": "code",
   "execution_count": 9,
   "id": "6b9d4784",
   "metadata": {},
   "outputs": [],
   "source": [
    "driver = webdriver.Chrome(r\"C:\\Users\\hp\\OneDrive\\Desktop\\chromedriver.exe\")"
   ]
  },
  {
   "cell_type": "code",
   "execution_count": 10,
   "id": "213046b2",
   "metadata": {},
   "outputs": [],
   "source": [
    "url='https://www.flipkart.com/?s_kwcid=AL!739!3!582822043916!e!!g!!flipkart&gclsrc=aw.ds&&semcmpid=sem_8024046704_brand_exe_buyers_goog&gclid=EAIaIQobChMI-Y_D2-bZ9wIVRMORCh2QnQGxEAAYASAAEgKIPPD_BwE'"
   ]
  },
  {
   "cell_type": "code",
   "execution_count": 11,
   "id": "adb2bfd2",
   "metadata": {},
   "outputs": [],
   "source": [
    "driver.get(url)"
   ]
  },
  {
   "cell_type": "code",
   "execution_count": 13,
   "id": "b8e56333",
   "metadata": {},
   "outputs": [],
   "source": [
    "#interacting with the webpage\n",
    "driver.find_element_by_xpath('//*[@id=\"container\"]/div/div[1]/div[1]/div[2]/div[2]/form/div/div/input').send_keys(\"sneakers\")\n",
    "driver.find_element_by_xpath('//*[@id=\"container\"]/div/div[1]/div[1]/div[2]/div[2]/form/div/button').click()"
   ]
  },
  {
   "cell_type": "code",
   "execution_count": 14,
   "id": "54017555",
   "metadata": {},
   "outputs": [],
   "source": [
    "#creating the empty lists\n",
    "Brand=[]\n",
    "Product_Description=[]\n",
    "Price=[]\n",
    "Discount=[]"
   ]
  },
  {
   "cell_type": "code",
   "execution_count": 17,
   "id": "5a1521a8",
   "metadata": {},
   "outputs": [],
   "source": [
    "#getting the list of url of first 100 sneakers\n",
    "URL=[]\n",
    "for i in range(0,4):\n",
    "    sneakers=driver.find_elements_by_xpath(\"//a[@class='IRpwTa']\")\n",
    "    for i in sneakers:\n",
    "        URL.append(i.get_attribute('href'))\n",
    " "
   ]
  },
  {
   "cell_type": "code",
   "execution_count": 18,
   "id": "3365190e",
   "metadata": {},
   "outputs": [],
   "source": [
    "#slicing to get first 100 url's\n",
    "list_of_url=URL[0:100]"
   ]
  },
  {
   "cell_type": "code",
   "execution_count": 19,
   "id": "2d9a3dd0",
   "metadata": {},
   "outputs": [
    {
     "data": {
      "text/plain": [
       "100"
      ]
     },
     "execution_count": 19,
     "metadata": {},
     "output_type": "execute_result"
    }
   ],
   "source": [
    "len(list_of_url)"
   ]
  },
  {
   "cell_type": "code",
   "execution_count": 20,
   "id": "80c2b3c2",
   "metadata": {},
   "outputs": [],
   "source": [
    "#going to the url of first sneaker through our driver\n",
    "driver.get(list_of_url[0])"
   ]
  },
  {
   "cell_type": "code",
   "execution_count": 21,
   "id": "e3276f3a",
   "metadata": {},
   "outputs": [
    {
     "name": "stderr",
     "output_type": "stream",
     "text": [
      "100%|████████████████████████████████████████████████████████████████████████████████| 100/100 [10:55<00:00,  6.55s/it]\n"
     ]
    }
   ],
   "source": [
    "#running a loop to extract all the required information from the list_of_url\n",
    "from tqdm import tqdm\n",
    "for i in tqdm(list_of_url):\n",
    "    driver.get(i)\n",
    "    try:\n",
    "        brand=driver.find_element_by_xpath(\"//span[@class='G6XhRU']\").text\n",
    "        Brand.append(brand)\n",
    "        description=driver.find_element_by_xpath(\"//span[@class='B_NuCI']\").text\n",
    "        Product_Description.append(description)\n",
    "        price=driver.find_element_by_xpath(\"//div[@class='_30jeq3 _16Jk6d']\").text\n",
    "        Price.append(price)\n",
    "        discount=driver.find_element_by_xpath(\"//div[@class='_3Ay6Sb _31Dcoz pZkvcx']/span\").text\n",
    "        Discount.append(discount)\n",
    "    except NoSuchElementException:\n",
    "        #Brand.append(\"Null\")\n",
    "        #Product_Description.append(\"Null\")\n",
    "        #Price.append(\"Null\")\n",
    "        Discount.append('Null')\n",
    "    time.sleep(3)"
   ]
  },
  {
   "cell_type": "code",
   "execution_count": 22,
   "id": "85ef59ad",
   "metadata": {},
   "outputs": [],
   "source": [
    "Sneakers=pd.DataFrame({})\n",
    "Sneakers['Brand']=Brand\n",
    "Sneakers['Product_Description']=Product_Description\n",
    "Sneakers['Price']=Price\n",
    "Sneakers['Discount']=Discount"
   ]
  },
  {
   "cell_type": "code",
   "execution_count": 23,
   "id": "55719a4e",
   "metadata": {},
   "outputs": [
    {
     "data": {
      "text/html": [
       "<div>\n",
       "<style scoped>\n",
       "    .dataframe tbody tr th:only-of-type {\n",
       "        vertical-align: middle;\n",
       "    }\n",
       "\n",
       "    .dataframe tbody tr th {\n",
       "        vertical-align: top;\n",
       "    }\n",
       "\n",
       "    .dataframe thead th {\n",
       "        text-align: right;\n",
       "    }\n",
       "</style>\n",
       "<table border=\"1\" class=\"dataframe\">\n",
       "  <thead>\n",
       "    <tr style=\"text-align: right;\">\n",
       "      <th></th>\n",
       "      <th>Brand</th>\n",
       "      <th>Product_Description</th>\n",
       "      <th>Price</th>\n",
       "      <th>Discount</th>\n",
       "    </tr>\n",
       "  </thead>\n",
       "  <tbody>\n",
       "    <tr>\n",
       "      <th>0</th>\n",
       "      <td>BRUTON</td>\n",
       "      <td>Modern Trendy Sneakers Shoes Sneakers For Men ...</td>\n",
       "      <td>₹295</td>\n",
       "      <td>77% off</td>\n",
       "    </tr>\n",
       "    <tr>\n",
       "      <th>1</th>\n",
       "      <td>KWIK FIT</td>\n",
       "      <td>Kwik FIT casual sneaker shoes and partywear sh...</td>\n",
       "      <td>₹399</td>\n",
       "      <td>80% off</td>\n",
       "    </tr>\n",
       "    <tr>\n",
       "      <th>2</th>\n",
       "      <td>corsac</td>\n",
       "      <td>STYLISH MENS BLACK SNEAKER Sneakers For Men  (...</td>\n",
       "      <td>₹499</td>\n",
       "      <td>66% off</td>\n",
       "    </tr>\n",
       "    <tr>\n",
       "      <th>3</th>\n",
       "      <td>Labbin</td>\n",
       "      <td>Sneakers For Men  (White)</td>\n",
       "      <td>₹469</td>\n",
       "      <td>53% off</td>\n",
       "    </tr>\n",
       "    <tr>\n",
       "      <th>4</th>\n",
       "      <td>BIRDE</td>\n",
       "      <td>Stylish Comfortable Lightweight, Breathable Wa...</td>\n",
       "      <td>₹351</td>\n",
       "      <td>64% off</td>\n",
       "    </tr>\n",
       "    <tr>\n",
       "      <th>...</th>\n",
       "      <td>...</td>\n",
       "      <td>...</td>\n",
       "      <td>...</td>\n",
       "      <td>...</td>\n",
       "    </tr>\n",
       "    <tr>\n",
       "      <th>95</th>\n",
       "      <td>Chevit</td>\n",
       "      <td>516 Trendy Star Perfect Sneakers For Men  (Grey)</td>\n",
       "      <td>₹299</td>\n",
       "      <td>62% off</td>\n",
       "    </tr>\n",
       "    <tr>\n",
       "      <th>96</th>\n",
       "      <td>Kraasa</td>\n",
       "      <td>Casuals, Canvas, Partywear Sneakers For Men  (...</td>\n",
       "      <td>₹489</td>\n",
       "      <td>51% off</td>\n",
       "    </tr>\n",
       "    <tr>\n",
       "      <th>97</th>\n",
       "      <td>Arohi</td>\n",
       "      <td>Sneakers For Men  (White)</td>\n",
       "      <td>₹441</td>\n",
       "      <td>55% off</td>\n",
       "    </tr>\n",
       "    <tr>\n",
       "      <th>98</th>\n",
       "      <td>MAFLO</td>\n",
       "      <td>Sneakers For Men  (White)</td>\n",
       "      <td>₹499</td>\n",
       "      <td>61% off</td>\n",
       "    </tr>\n",
       "    <tr>\n",
       "      <th>99</th>\n",
       "      <td>Robbie jones</td>\n",
       "      <td>Sneakers For Men  (Black)</td>\n",
       "      <td>₹499</td>\n",
       "      <td>50% off</td>\n",
       "    </tr>\n",
       "  </tbody>\n",
       "</table>\n",
       "<p>100 rows × 4 columns</p>\n",
       "</div>"
      ],
      "text/plain": [
       "            Brand                                Product_Description Price  \\\n",
       "0         BRUTON   Modern Trendy Sneakers Shoes Sneakers For Men ...  ₹295   \n",
       "1       KWIK FIT   Kwik FIT casual sneaker shoes and partywear sh...  ₹399   \n",
       "2         corsac   STYLISH MENS BLACK SNEAKER Sneakers For Men  (...  ₹499   \n",
       "3         Labbin                           Sneakers For Men  (White)  ₹469   \n",
       "4          BIRDE   Stylish Comfortable Lightweight, Breathable Wa...  ₹351   \n",
       "..            ...                                                ...   ...   \n",
       "95        Chevit    516 Trendy Star Perfect Sneakers For Men  (Grey)  ₹299   \n",
       "96        Kraasa   Casuals, Canvas, Partywear Sneakers For Men  (...  ₹489   \n",
       "97         Arohi                           Sneakers For Men  (White)  ₹441   \n",
       "98         MAFLO                           Sneakers For Men  (White)  ₹499   \n",
       "99  Robbie jones                           Sneakers For Men  (Black)  ₹499   \n",
       "\n",
       "   Discount  \n",
       "0   77% off  \n",
       "1   80% off  \n",
       "2   66% off  \n",
       "3   53% off  \n",
       "4   64% off  \n",
       "..      ...  \n",
       "95  62% off  \n",
       "96  51% off  \n",
       "97  55% off  \n",
       "98  61% off  \n",
       "99  50% off  \n",
       "\n",
       "[100 rows x 4 columns]"
      ]
     },
     "execution_count": 23,
     "metadata": {},
     "output_type": "execute_result"
    }
   ],
   "source": [
    "Sneakers"
   ]
  },
  {
   "cell_type": "markdown",
   "id": "7df5be81",
   "metadata": {},
   "source": [
    "# Q7: Go to the link - https://www.myntra.com/shoes Set Price filter to “Rs. 7149 to Rs. 14099 ” , Color filter to “Black”, as shown inthe below image."
   ]
  },
  {
   "cell_type": "code",
   "execution_count": 24,
   "id": "70eaf48e",
   "metadata": {},
   "outputs": [],
   "source": [
    "driver = webdriver.Chrome(r\"C:\\Users\\hp\\OneDrive\\Desktop\\chromedriver.exe\")"
   ]
  },
  {
   "cell_type": "code",
   "execution_count": 25,
   "id": "57362df5",
   "metadata": {},
   "outputs": [],
   "source": [
    "url='https://www.myntra.com/shoes'"
   ]
  },
  {
   "cell_type": "code",
   "execution_count": 27,
   "id": "7104e5fb",
   "metadata": {},
   "outputs": [],
   "source": [
    "driver.get(url)"
   ]
  },
  {
   "cell_type": "code",
   "execution_count": 28,
   "id": "a5446a24",
   "metadata": {},
   "outputs": [],
   "source": [
    "#clicking on price filter\n",
    "driver.find_element_by_xpath('//*[@id=\"mountRoot\"]/div/div[1]/main/div[3]/div[1]/section/div/div[5]/ul/li[2]/label/div').click()"
   ]
  },
  {
   "cell_type": "code",
   "execution_count": 29,
   "id": "c8672714",
   "metadata": {},
   "outputs": [],
   "source": [
    "#clicking on color filter\n",
    "driver.find_element_by_xpath('//*[@id=\"mountRoot\"]/div/div[1]/main/div[3]/div[1]/section/div/div[6]/ul/li[1]/label/div').click()"
   ]
  },
  {
   "cell_type": "code",
   "execution_count": 30,
   "id": "eb1ee88f",
   "metadata": {},
   "outputs": [],
   "source": [
    "#creating the empty lists\n",
    "Brand=[]\n",
    "Product_Description=[]\n",
    "Price=[]"
   ]
  },
  {
   "cell_type": "code",
   "execution_count": 31,
   "id": "0ced15f2",
   "metadata": {},
   "outputs": [
    {
     "name": "stderr",
     "output_type": "stream",
     "text": [
      "C:\\Users\\hp\\anaconda3\\lib\\site-packages\\selenium\\webdriver\\remote\\webelement.py:341: UserWarning: find_element_by_tag_name is deprecated. Please use find_element(by=By.TAG_NAME, value=name) instead\n",
      "  warnings.warn(\"find_element_by_tag_name is deprecated. Please use find_element(by=By.TAG_NAME, value=name) instead\")\n"
     ]
    }
   ],
   "source": [
    "#getting the list of url of first 100 shoes\n",
    "URL=[]\n",
    "for i in range(0,2):\n",
    "    shoes=driver.find_elements_by_xpath(\"//li[@class='product-base']\")\n",
    "    for i in shoes:\n",
    "        #shoes1=i.find_element_by_tag_name(\"div\")\n",
    "        #shoes2=shoes1.find_element_by_tag_name(\"div\")\n",
    "        shoes3=i.find_element_by_tag_name(\"a\")\n",
    "        URL.append(shoes3.get_attribute('href'))\n",
    "    driver.find_element_by_xpath('//*[@id=\"desktopSearchResults\"]/div[2]/section/div[2]/ul/li[3]/a').click()\n",
    "    time.sleep(3)"
   ]
  },
  {
   "cell_type": "code",
   "execution_count": 32,
   "id": "88cf421b",
   "metadata": {},
   "outputs": [
    {
     "data": {
      "text/plain": [
       "100"
      ]
     },
     "execution_count": 32,
     "metadata": {},
     "output_type": "execute_result"
    }
   ],
   "source": [
    "len(URL)\n"
   ]
  },
  {
   "cell_type": "code",
   "execution_count": 33,
   "id": "7c1270ec",
   "metadata": {},
   "outputs": [],
   "source": [
    "#going to the url of first shoes through our driver\n",
    "driver.get(URL[0])"
   ]
  },
  {
   "cell_type": "code",
   "execution_count": 34,
   "id": "3cf9bc63",
   "metadata": {},
   "outputs": [
    {
     "name": "stderr",
     "output_type": "stream",
     "text": [
      "100%|████████████████████████████████████████████████████████████████████████████████| 100/100 [13:05<00:00,  7.86s/it]\n"
     ]
    }
   ],
   "source": [
    "#running a loop to extract all the required information from the list_of_url\n",
    "from tqdm import tqdm\n",
    "for i in tqdm(URL):\n",
    "    driver.get(i)\n",
    "    try:\n",
    "        brand=driver.find_element_by_xpath('//*[@id=\"mountRoot\"]/div/div/div/main/div[2]/div[2]/div[1]/h1[1]').text\n",
    "        Brand.append(brand)\n",
    "    except NoSuchElementException:\n",
    "        Brand.append(\"Null\")\n",
    "    try:\n",
    "        description=driver.find_element_by_xpath('//*[@id=\"mountRoot\"]/div/div/div/main/div[2]/div[2]/div[1]/h1[2]').text\n",
    "        Product_Description.append(description)\n",
    "    except NoSuchElementException:\n",
    "        Product_Description.append(\"Null\")\n",
    "    try:\n",
    "        price=driver.find_element_by_xpath('//*[@id=\"mountRoot\"]/div/div/div/main/div[2]/div[2]/div[1]/p[1]/span[1]/strong').text\n",
    "        Price.append(price)\n",
    "    except NoSuchElementException:\n",
    "        Price.append(\"Null\")\n",
    "    time.sleep(3)"
   ]
  },
  {
   "cell_type": "code",
   "execution_count": 42,
   "id": "cbfbf1ac",
   "metadata": {},
   "outputs": [],
   "source": [
    "Shoes=pd.DataFrame({})\n",
    "Shoes['Brand']=Brand\n",
    "Shoes['Product_Description']=Product_Description\n",
    "Shoes['Price']=Price"
   ]
  },
  {
   "cell_type": "code",
   "execution_count": 43,
   "id": "ab19a7e9",
   "metadata": {},
   "outputs": [
    {
     "data": {
      "text/html": [
       "<div>\n",
       "<style scoped>\n",
       "    .dataframe tbody tr th:only-of-type {\n",
       "        vertical-align: middle;\n",
       "    }\n",
       "\n",
       "    .dataframe tbody tr th {\n",
       "        vertical-align: top;\n",
       "    }\n",
       "\n",
       "    .dataframe thead th {\n",
       "        text-align: right;\n",
       "    }\n",
       "</style>\n",
       "<table border=\"1\" class=\"dataframe\">\n",
       "  <thead>\n",
       "    <tr style=\"text-align: right;\">\n",
       "      <th></th>\n",
       "      <th>Brand</th>\n",
       "      <th>Product_Description</th>\n",
       "      <th>Price</th>\n",
       "    </tr>\n",
       "  </thead>\n",
       "  <tbody>\n",
       "    <tr>\n",
       "      <th>0</th>\n",
       "      <td>Skechers</td>\n",
       "      <td>Men Black Max Cushioning Premier Running Shoes</td>\n",
       "      <td>Rs. 7199</td>\n",
       "    </tr>\n",
       "    <tr>\n",
       "      <th>1</th>\n",
       "      <td>UNDER ARMOUR</td>\n",
       "      <td>Men Black Charged Vantage 2 Running Shoes</td>\n",
       "      <td>Rs. 7999</td>\n",
       "    </tr>\n",
       "    <tr>\n",
       "      <th>2</th>\n",
       "      <td>ALDO</td>\n",
       "      <td>Men Black Sneakers</td>\n",
       "      <td>Rs. 9999</td>\n",
       "    </tr>\n",
       "    <tr>\n",
       "      <th>3</th>\n",
       "      <td>Nike</td>\n",
       "      <td>Women Black React Miler 3 Running Shoes</td>\n",
       "      <td>Rs. 8920</td>\n",
       "    </tr>\n",
       "    <tr>\n",
       "      <th>4</th>\n",
       "      <td>Puma</td>\n",
       "      <td>Men Black Deviate Nitro WTR Running Shoes</td>\n",
       "      <td>Rs. 12799</td>\n",
       "    </tr>\n",
       "    <tr>\n",
       "      <th>...</th>\n",
       "      <td>...</td>\n",
       "      <td>...</td>\n",
       "      <td>...</td>\n",
       "    </tr>\n",
       "    <tr>\n",
       "      <th>95</th>\n",
       "      <td>J.FONTINI</td>\n",
       "      <td>Men Black Loafers</td>\n",
       "      <td>Rs. 8990</td>\n",
       "    </tr>\n",
       "    <tr>\n",
       "      <th>96</th>\n",
       "      <td>DAVINCHI</td>\n",
       "      <td>Ustraa black</td>\n",
       "      <td>Rs. 8990</td>\n",
       "    </tr>\n",
       "    <tr>\n",
       "      <th>97</th>\n",
       "      <td>DAVINCHI</td>\n",
       "      <td>Men Black Textured Formal Leather Loafers</td>\n",
       "      <td>Rs. 8990</td>\n",
       "    </tr>\n",
       "    <tr>\n",
       "      <th>98</th>\n",
       "      <td>RARE RABBIT</td>\n",
       "      <td>Men Black Textured Leather Loafers</td>\n",
       "      <td>Rs. 7699</td>\n",
       "    </tr>\n",
       "    <tr>\n",
       "      <th>99</th>\n",
       "      <td>Bugatti</td>\n",
       "      <td>Black &amp; Brown Printed Comfort Sandals</td>\n",
       "      <td>Rs. 7499</td>\n",
       "    </tr>\n",
       "  </tbody>\n",
       "</table>\n",
       "<p>100 rows × 3 columns</p>\n",
       "</div>"
      ],
      "text/plain": [
       "           Brand                             Product_Description      Price\n",
       "0       Skechers  Men Black Max Cushioning Premier Running Shoes   Rs. 7199\n",
       "1   UNDER ARMOUR       Men Black Charged Vantage 2 Running Shoes   Rs. 7999\n",
       "2           ALDO                              Men Black Sneakers   Rs. 9999\n",
       "3           Nike         Women Black React Miler 3 Running Shoes   Rs. 8920\n",
       "4           Puma       Men Black Deviate Nitro WTR Running Shoes  Rs. 12799\n",
       "..           ...                                             ...        ...\n",
       "95     J.FONTINI                               Men Black Loafers   Rs. 8990\n",
       "96      DAVINCHI                                    Ustraa black   Rs. 8990\n",
       "97      DAVINCHI       Men Black Textured Formal Leather Loafers   Rs. 8990\n",
       "98   RARE RABBIT              Men Black Textured Leather Loafers   Rs. 7699\n",
       "99       Bugatti           Black & Brown Printed Comfort Sandals   Rs. 7499\n",
       "\n",
       "[100 rows x 3 columns]"
      ]
     },
     "execution_count": 43,
     "metadata": {},
     "output_type": "execute_result"
    }
   ],
   "source": [
    "Shoes"
   ]
  },
  {
   "cell_type": "markdown",
   "id": "e048b79f",
   "metadata": {},
   "source": [
    "# Q8: Web scraping laptops from amazon.in"
   ]
  },
  {
   "cell_type": "code",
   "execution_count": 36,
   "id": "671ef268",
   "metadata": {},
   "outputs": [],
   "source": [
    "driver = webdriver.Chrome(r\"C:\\Users\\hp\\OneDrive\\Desktop\\chromedriver.exe\")"
   ]
  },
  {
   "cell_type": "code",
   "execution_count": 37,
   "id": "537f46ac",
   "metadata": {},
   "outputs": [],
   "source": [
    "url='https://www.amazon.in/'"
   ]
  },
  {
   "cell_type": "code",
   "execution_count": 38,
   "id": "4ae72556",
   "metadata": {},
   "outputs": [],
   "source": [
    "#opening the webpage through our driver\n",
    "driver.get(url)"
   ]
  },
  {
   "cell_type": "code",
   "execution_count": 39,
   "id": "b4732915",
   "metadata": {},
   "outputs": [],
   "source": [
    "#interacting with the webpage\n",
    "driver.find_element_by_xpath('//*[@id=\"twotabsearchtextbox\"]').send_keys(\"Laptop\")\n",
    "driver.find_element_by_xpath('//*[@id=\"nav-search-submit-button\"]').click()"
   ]
  },
  {
   "cell_type": "code",
   "execution_count": 40,
   "id": "c7128568",
   "metadata": {},
   "outputs": [],
   "source": [
    "#clicking on the \"Intel core i7\" filter\n",
    "driver.find_element_by_xpath('//*[@id=\"p_n_feature_thirteen_browse-bin/12598163031\"]/span/a/div/label/i').click()"
   ]
  },
  {
   "cell_type": "code",
   "execution_count": 44,
   "id": "0ffe0659",
   "metadata": {},
   "outputs": [],
   "source": [
    "#creating the empty lists\n",
    "Title=[]\n",
    "Ratings=[]\n",
    "Price=[]"
   ]
  },
  {
   "cell_type": "code",
   "execution_count": 45,
   "id": "67bfeca1",
   "metadata": {},
   "outputs": [
    {
     "name": "stderr",
     "output_type": "stream",
     "text": [
      "C:\\Users\\hp\\anaconda3\\lib\\site-packages\\selenium\\webdriver\\remote\\webelement.py:341: UserWarning: find_element_by_tag_name is deprecated. Please use find_element(by=By.TAG_NAME, value=name) instead\n",
      "  warnings.warn(\"find_element_by_tag_name is deprecated. Please use find_element(by=By.TAG_NAME, value=name) instead\")\n"
     ]
    }
   ],
   "source": [
    "#getting the list of url of laptops\n",
    "URL=[]\n",
    "\n",
    "laptop=driver.find_elements_by_xpath(\"//h2[@class='a-size-mini a-spacing-none a-color-base s-line-clamp-2']\")\n",
    "for i in laptop:\n",
    "    laptop2=i.find_element_by_tag_name(\"a\")\n",
    "    URL.append(laptop2.get_attribute('href'))"
   ]
  },
  {
   "cell_type": "code",
   "execution_count": 46,
   "id": "154aa572",
   "metadata": {},
   "outputs": [],
   "source": [
    "list_of_url=URL[0:10]"
   ]
  },
  {
   "cell_type": "code",
   "execution_count": 47,
   "id": "7b31f1ca",
   "metadata": {},
   "outputs": [],
   "source": [
    "#going to the url of first laptop through our driver\n",
    "driver.get(URL[0])"
   ]
  },
  {
   "cell_type": "code",
   "execution_count": 50,
   "id": "2ce09ead",
   "metadata": {},
   "outputs": [
    {
     "name": "stderr",
     "output_type": "stream",
     "text": [
      "100%|██████████████████████████████████████████████████████████████████████████████████| 10/10 [02:20<00:00, 14.04s/it]\n"
     ]
    }
   ],
   "source": [
    "for i in tqdm(list_of_url):\n",
    "    driver.get(i)\n",
    "    try:\n",
    "        title=driver.find_element_by_xpath('//*[@id=\"productTitle\"]').text\n",
    "        Title.append(title)\n",
    "    except NoSuchElementException:\n",
    "        Title.append('Null')\n",
    "        \n",
    "    try:\n",
    "        price=driver.find_element_by_xpath('/html/body/div[2]/div[2]/div[5]/div[4]/div[4]/div[10]/div[1]/div/table/tbody/tr[1]/td[2]/span[1]/span[2]').text\n",
    "        Price.append(price)\n",
    "    except NoSuchElementException:\n",
    "        price1=driver.find_element_by_xpath('/html/body/div[2]/div[2]/div[5]/div[4]/div[4]/div[10]/div[1]/div/table/tbody/tr[2]/td[2]/span[1]/span[2]').text\n",
    "        Price.append(price1)\n",
    "    \n",
    "    try:\n",
    "        rating=driver.find_element_by_xpath('//*[@id=\"acrPopover\"]/span[1]/a/i[1]').click()\n",
    "        ratings=driver.find_element_by_xpath(\"//span[@class='a-size-medium a-color-base a-text-beside-button a-text-bold']\").text\n",
    "        Ratings.append(ratings)\n",
    "    except NoSuchElementException:\n",
    "        Ratings.append('Null')\n",
    "        \n",
    "    time.sleep(3)"
   ]
  },
  {
   "cell_type": "code",
   "execution_count": 52,
   "id": "1748ac46",
   "metadata": {},
   "outputs": [
    {
     "name": "stdout",
     "output_type": "stream",
     "text": [
      "12 10 10\n"
     ]
    }
   ],
   "source": [
    "#printing length\n",
    "print(len(Title),len(Price),len(Ratings))"
   ]
  },
  {
   "cell_type": "code",
   "execution_count": 53,
   "id": "20757ed1",
   "metadata": {},
   "outputs": [],
   "source": [
    "#creating a dataframe\n",
    "\n",
    "Laptops=pd.DataFrame({})\n",
    "Laptops['Title']=Title[:10]\n",
    "Laptops['Price']=Price\n",
    "Laptops['Ratings']=Ratings"
   ]
  },
  {
   "cell_type": "code",
   "execution_count": 54,
   "id": "24081374",
   "metadata": {},
   "outputs": [
    {
     "data": {
      "text/html": [
       "<div>\n",
       "<style scoped>\n",
       "    .dataframe tbody tr th:only-of-type {\n",
       "        vertical-align: middle;\n",
       "    }\n",
       "\n",
       "    .dataframe tbody tr th {\n",
       "        vertical-align: top;\n",
       "    }\n",
       "\n",
       "    .dataframe thead th {\n",
       "        text-align: right;\n",
       "    }\n",
       "</style>\n",
       "<table border=\"1\" class=\"dataframe\">\n",
       "  <thead>\n",
       "    <tr style=\"text-align: right;\">\n",
       "      <th></th>\n",
       "      <th>Title</th>\n",
       "      <th>Price</th>\n",
       "      <th>Ratings</th>\n",
       "    </tr>\n",
       "  </thead>\n",
       "  <tbody>\n",
       "    <tr>\n",
       "      <th>0</th>\n",
       "      <td>Fujitsu UH-X 11th Gen Intel Core i5 13.3” FHD ...</td>\n",
       "      <td>₹1,16,490.00</td>\n",
       "      <td>4.1 out of 5</td>\n",
       "    </tr>\n",
       "    <tr>\n",
       "      <th>1</th>\n",
       "      <td>Fujitsu UH-X 11th Gen Intel Core i5 13.3” FHD ...</td>\n",
       "      <td>₹74,839.00</td>\n",
       "      <td>Null</td>\n",
       "    </tr>\n",
       "    <tr>\n",
       "      <th>2</th>\n",
       "      <td>Fujitsu UH-X 11th Gen Intel Core i5 13.3” FHD ...</td>\n",
       "      <td>₹33,990.00</td>\n",
       "      <td>Null</td>\n",
       "    </tr>\n",
       "    <tr>\n",
       "      <th>3</th>\n",
       "      <td>HP Pavilion 14, Ryzen 5-16GB RAM/512GB 14 inch...</td>\n",
       "      <td>₹40,490.00</td>\n",
       "      <td>Null</td>\n",
       "    </tr>\n",
       "    <tr>\n",
       "      <th>4</th>\n",
       "      <td>ASUS VivoBook 15 (2021), 15.6-inch (39.62 cm) ...</td>\n",
       "      <td>₹64,490.00</td>\n",
       "      <td>Null</td>\n",
       "    </tr>\n",
       "    <tr>\n",
       "      <th>5</th>\n",
       "      <td>Lenovo IdeaPad 3 Intel Celeron N4020 14'' HD T...</td>\n",
       "      <td>₹1,15,668.00</td>\n",
       "      <td>Null</td>\n",
       "    </tr>\n",
       "    <tr>\n",
       "      <th>6</th>\n",
       "      <td>Lenovo IdeaPad 3 11th Gen Intel i3 15.6\" FHD T...</td>\n",
       "      <td>₹29,741.00</td>\n",
       "      <td>3.7 out of 5</td>\n",
       "    </tr>\n",
       "    <tr>\n",
       "      <th>7</th>\n",
       "      <td>Lenovo ThinkBook 14 Intel Core i5 11th Gen 14\"...</td>\n",
       "      <td>₹42,999.00</td>\n",
       "      <td>Null</td>\n",
       "    </tr>\n",
       "    <tr>\n",
       "      <th>8</th>\n",
       "      <td>HP Chromebook 14 Intel Celeron N4020-4GB SDRAM...</td>\n",
       "      <td>₹26,663.00</td>\n",
       "      <td>Null</td>\n",
       "    </tr>\n",
       "    <tr>\n",
       "      <th>9</th>\n",
       "      <td>HP 247 G8 Laptop (Athlon P-3045B HD/ 14\" HD (3...</td>\n",
       "      <td>₹43,494.00</td>\n",
       "      <td>Null</td>\n",
       "    </tr>\n",
       "  </tbody>\n",
       "</table>\n",
       "</div>"
      ],
      "text/plain": [
       "                                               Title         Price  \\\n",
       "0  Fujitsu UH-X 11th Gen Intel Core i5 13.3” FHD ...  ₹1,16,490.00   \n",
       "1  Fujitsu UH-X 11th Gen Intel Core i5 13.3” FHD ...    ₹74,839.00   \n",
       "2  Fujitsu UH-X 11th Gen Intel Core i5 13.3” FHD ...    ₹33,990.00   \n",
       "3  HP Pavilion 14, Ryzen 5-16GB RAM/512GB 14 inch...    ₹40,490.00   \n",
       "4  ASUS VivoBook 15 (2021), 15.6-inch (39.62 cm) ...    ₹64,490.00   \n",
       "5  Lenovo IdeaPad 3 Intel Celeron N4020 14'' HD T...  ₹1,15,668.00   \n",
       "6  Lenovo IdeaPad 3 11th Gen Intel i3 15.6\" FHD T...    ₹29,741.00   \n",
       "7  Lenovo ThinkBook 14 Intel Core i5 11th Gen 14\"...    ₹42,999.00   \n",
       "8  HP Chromebook 14 Intel Celeron N4020-4GB SDRAM...    ₹26,663.00   \n",
       "9  HP 247 G8 Laptop (Athlon P-3045B HD/ 14\" HD (3...    ₹43,494.00   \n",
       "\n",
       "        Ratings  \n",
       "0  4.1 out of 5  \n",
       "1          Null  \n",
       "2          Null  \n",
       "3          Null  \n",
       "4          Null  \n",
       "5          Null  \n",
       "6  3.7 out of 5  \n",
       "7          Null  \n",
       "8          Null  \n",
       "9          Null  "
      ]
     },
     "execution_count": 54,
     "metadata": {},
     "output_type": "execute_result"
    }
   ],
   "source": [
    "Laptops"
   ]
  },
  {
   "cell_type": "markdown",
   "id": "1dea81bf",
   "metadata": {},
   "source": [
    "# Q9: Write a python program to scrape data for first 10 job results for Data Scientist Designation in Noida location. You have to scrape company name, No. of days ago when job was posted, Rating of the company.\n"
   ]
  },
  {
   "cell_type": "code",
   "execution_count": 16,
   "id": "369d456d",
   "metadata": {},
   "outputs": [],
   "source": [
    "driver = webdriver.Chrome(r\"C:\\Users\\hp\\OneDrive\\Desktop\\chromedriver.exe\")"
   ]
  },
  {
   "cell_type": "code",
   "execution_count": 17,
   "id": "ebe4359f",
   "metadata": {},
   "outputs": [],
   "source": [
    "url='https://www.ambitionbox.com/'"
   ]
  },
  {
   "cell_type": "code",
   "execution_count": 18,
   "id": "3c7e938c",
   "metadata": {},
   "outputs": [],
   "source": [
    "driver.get(url)"
   ]
  },
  {
   "cell_type": "code",
   "execution_count": 19,
   "id": "b4b332d9",
   "metadata": {},
   "outputs": [],
   "source": [
    "# click on job tag\n",
    "driver.find_element_by_xpath('//*[@id=\"headerWrapper\"]/nav/nav/a[6]').click()"
   ]
  },
  {
   "cell_type": "code",
   "execution_count": 20,
   "id": "5cc2a7d9",
   "metadata": {},
   "outputs": [],
   "source": [
    "# finding job for data scientist\n",
    "driver.find_element_by_xpath('//*[@id=\"jobs-typeahead\"]/span/input').send_keys('Data Scientist')\n",
    "driver.find_element_by_xpath('//*[@id=\"jobs\"]/div[2]/div[1]/div[1]/div/div/div/button').click()"
   ]
  },
  {
   "cell_type": "code",
   "execution_count": 21,
   "id": "a19b365b",
   "metadata": {},
   "outputs": [],
   "source": [
    "# giving intrsuction for location\n",
    "driver.find_element_by_xpath('//*[@id=\"filters-row\"]/div/div/div[2]/div[1]/p').click()"
   ]
  },
  {
   "cell_type": "code",
   "execution_count": 22,
   "id": "53ef5cb1",
   "metadata": {},
   "outputs": [],
   "source": [
    "driver.find_element_by_xpath('//*[@id=\"filters-row\"]/div/div/div[2]/div[2]/div/div[2]/input').send_keys('NOIDA')\n",
    "driver.find_element_by_xpath('//*[@id=\"filters-row\"]/div/div/div[2]/div[2]/div/div[3]/div[1]/div[1]/div/label').click()"
   ]
  },
  {
   "cell_type": "code",
   "execution_count": 31,
   "id": "f9a2d172",
   "metadata": {},
   "outputs": [
    {
     "ename": "TypeError",
     "evalue": "'WebElement' object is not iterable",
     "output_type": "error",
     "traceback": [
      "\u001b[1;31m---------------------------------------------------------------------------\u001b[0m",
      "\u001b[1;31mTypeError\u001b[0m                                 Traceback (most recent call last)",
      "\u001b[1;32m<ipython-input-31-5f98365d58d4>\u001b[0m in \u001b[0;36m<module>\u001b[1;34m\u001b[0m\n\u001b[0;32m      1\u001b[0m \u001b[0mURL\u001b[0m\u001b[1;33m=\u001b[0m\u001b[1;33m[\u001b[0m\u001b[1;33m]\u001b[0m\u001b[1;33m\u001b[0m\u001b[1;33m\u001b[0m\u001b[0m\n\u001b[0;32m      2\u001b[0m \u001b[0mjob\u001b[0m\u001b[1;33m=\u001b[0m\u001b[0mdriver\u001b[0m\u001b[1;33m.\u001b[0m\u001b[0mfind_element_by_xpath\u001b[0m\u001b[1;33m(\u001b[0m\u001b[1;34m'/html/body/div/div/div/div[2]/div[1]/div[2]/div[2]/div[2]/div/div[1]/div[1]'\u001b[0m\u001b[1;33m)\u001b[0m\u001b[1;33m\u001b[0m\u001b[1;33m\u001b[0m\u001b[0m\n\u001b[1;32m----> 3\u001b[1;33m \u001b[1;32mfor\u001b[0m \u001b[0mi\u001b[0m \u001b[1;32min\u001b[0m \u001b[0mjob\u001b[0m\u001b[1;33m:\u001b[0m\u001b[1;33m\u001b[0m\u001b[1;33m\u001b[0m\u001b[0m\n\u001b[0m\u001b[0;32m      4\u001b[0m     \u001b[0mjobs\u001b[0m\u001b[1;33m=\u001b[0m\u001b[0mi\u001b[0m\u001b[1;33m.\u001b[0m\u001b[0mfind_element_by_tag_name\u001b[0m\u001b[1;33m(\u001b[0m\u001b[1;34m\"a\"\u001b[0m\u001b[1;33m)\u001b[0m\u001b[1;33m\u001b[0m\u001b[1;33m\u001b[0m\u001b[0m\n\u001b[0;32m      5\u001b[0m     \u001b[0mURL\u001b[0m\u001b[1;33m.\u001b[0m\u001b[0mappend\u001b[0m\u001b[1;33m(\u001b[0m\u001b[0mjobs\u001b[0m\u001b[1;33m.\u001b[0m\u001b[0mget_attribute\u001b[0m\u001b[1;33m(\u001b[0m\u001b[1;34m'href'\u001b[0m\u001b[1;33m)\u001b[0m\u001b[1;33m)\u001b[0m\u001b[1;33m\u001b[0m\u001b[1;33m\u001b[0m\u001b[0m\n",
      "\u001b[1;31mTypeError\u001b[0m: 'WebElement' object is not iterable"
     ]
    }
   ],
   "source": [
    "URL=[]\n",
    "job=driver.find_element_by_xpath('/html/body/div/div/div/div[2]/div[1]/div[2]/div[2]/div[2]/div/div[1]/div[1]')\n",
    "for i in job:\n",
    "    jobs=i.find_element_by_tag_name(\"a\")\n",
    "    URL.append(jobs.get_attribute('href'))"
   ]
  },
  {
   "cell_type": "code",
   "execution_count": null,
   "id": "9617bc9f",
   "metadata": {},
   "outputs": [],
   "source": []
  }
 ],
 "metadata": {
  "kernelspec": {
   "display_name": "Python 3",
   "language": "python",
   "name": "python3"
  },
  "language_info": {
   "codemirror_mode": {
    "name": "ipython",
    "version": 3
   },
   "file_extension": ".py",
   "mimetype": "text/x-python",
   "name": "python",
   "nbconvert_exporter": "python",
   "pygments_lexer": "ipython3",
   "version": "3.8.8"
  }
 },
 "nbformat": 4,
 "nbformat_minor": 5
}
